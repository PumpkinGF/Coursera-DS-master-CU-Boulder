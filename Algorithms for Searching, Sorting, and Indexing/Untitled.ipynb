{
 "cells": [
  {
   "cell_type": "code",
   "execution_count": 12,
   "id": "be02cd8c",
   "metadata": {},
   "outputs": [],
   "source": [
    "# test\n",
    "# learning recursion\n",
    "# 1. base case 终止条件\n",
    "# 2. 调用本身\n",
    "# 3. output\n",
    "# try factorial 阶乘\n",
    "#def factorial(x):\n",
    "#    if x == 1:\n",
    "#        return 1\n",
    "#    else:\n",
    "#        return x * factorial (x-1)\n",
    "\n",
    "# try minmax()\n",
    "# 方法描述: 该函数以一个list作为输入值，list里有int和float值。返回一个格式为（minimum，maximum）的tuple。\n",
    "# 如果输入值为空list，则返回空tuple。 不能使用python自带函数，比如min(),max(),sort(),sorted()。不能使用循环，必须使用递归。\n",
    "def minmax(lst):\n",
    "    if len(lst):\n",
    "        if len(lst) == 1:\n",
    "            return lst[0]\n",
    "        elif len(lst) == 2:\n",
    "            if lst[0] >= lst[1]:\n",
    "                return (lst[1],lst[0])\n",
    "            else:\n",
    "                return (lst[0],lst[1])\n",
    "        else\n",
    "\n",
    "    else:\n",
    "        return tuple()"
   ]
  },
  {
   "cell_type": "code",
   "execution_count": 30,
   "id": "f3fb51d3",
   "metadata": {},
   "outputs": [
    {
     "name": "stdout",
     "output_type": "stream",
     "text": [
      "(1, 15)\n"
     ]
    }
   ],
   "source": [
    "a = [10,9,6,2,4,15,1]\n",
    "maximum = a[0]\n",
    "minimum = a[0]\n",
    "def minmax(lst, minimum, maximum):\n",
    "    if len(lst) == 0:\n",
    "        return (minimum, maximum)\n",
    "    else:\n",
    "        if lst[0] > maximum:\n",
    "            maximum = lst[0]\n",
    "        if lst[0] < minimum:\n",
    "            minimum = lst[0]\n",
    "    return minmax(lst[1:], minimum, maximum)\n",
    "print(minmax(a,minimum, maximum))"
   ]
  },
  {
   "cell_type": "code",
   "execution_count": null,
   "id": "fe018049",
   "metadata": {},
   "outputs": [],
   "source": []
  }
 ],
 "metadata": {
  "kernelspec": {
   "display_name": "Python 3 (ipykernel)",
   "language": "python",
   "name": "python3"
  },
  "language_info": {
   "codemirror_mode": {
    "name": "ipython",
    "version": 3
   },
   "file_extension": ".py",
   "mimetype": "text/x-python",
   "name": "python",
   "nbconvert_exporter": "python",
   "pygments_lexer": "ipython3",
   "version": "3.10.9"
  }
 },
 "nbformat": 4,
 "nbformat_minor": 5
}
